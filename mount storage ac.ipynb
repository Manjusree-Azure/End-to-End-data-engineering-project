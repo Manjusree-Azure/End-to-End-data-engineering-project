{
 "cells": [
  {
   "cell_type": "code",
   "execution_count": 0,
   "metadata": {
    "application/vnd.databricks.v1+cell": {
     "cellMetadata": {
      "byteLimit": 2048000,
      "rowLimit": 10000
     },
     "inputWidgets": {},
     "nuid": "22e63cf7-defd-4634-8c5b-ca2c20413453",
     "showTitle": false,
     "title": ""
    }
   },
   "outputs": [],
   "source": [
    "Accountkey =\"CTD+cGjlWGt6n1ZJzPonumnfghh8ht5hmjknvfhgoihhgc==\""
   ]
  },
  {
   "cell_type": "code",
   "execution_count": 0,
   "metadata": {
    "application/vnd.databricks.v1+cell": {
     "cellMetadata": {
      "byteLimit": 2048000,
      "rowLimit": 10000
     },
     "inputWidgets": {},
     "nuid": "aa01de91-da98-4700-970b-8a99122823b8",
     "showTitle": false,
     "title": ""
    }
   },
   "outputs": [
    {
     "output_type": "execute_result",
     "data": {
      "text/plain": [
       "[FileInfo(path='dbfs:/mnt/rootlayer/SalesLT/Address/', name='Address/', size=0, modificationTime=0),\n",
       " FileInfo(path='dbfs:/mnt/rootlayer/SalesLT/Customer/', name='Customer/', size=0, modificationTime=0),\n",
       " FileInfo(path='dbfs:/mnt/rootlayer/SalesLT/CustomerAddress/', name='CustomerAddress/', size=0, modificationTime=0),\n",
       " FileInfo(path='dbfs:/mnt/rootlayer/SalesLT/Product/', name='Product/', size=0, modificationTime=0),\n",
       " FileInfo(path='dbfs:/mnt/rootlayer/SalesLT/ProductCategory/', name='ProductCategory/', size=0, modificationTime=0),\n",
       " FileInfo(path='dbfs:/mnt/rootlayer/SalesLT/ProductDescription/', name='ProductDescription/', size=0, modificationTime=0),\n",
       " FileInfo(path='dbfs:/mnt/rootlayer/SalesLT/ProductModel/', name='ProductModel/', size=0, modificationTime=0),\n",
       " FileInfo(path='dbfs:/mnt/rootlayer/SalesLT/ProductModelProductDescription/', name='ProductModelProductDescription/', size=0, modificationTime=0),\n",
       " FileInfo(path='dbfs:/mnt/rootlayer/SalesLT/SalesOrderDetail/', name='SalesOrderDetail/', size=0, modificationTime=0),\n",
       " FileInfo(path='dbfs:/mnt/rootlayer/SalesLT/SalesOrderHeader/', name='SalesOrderHeader/', size=0, modificationTime=0)]"
      ]
     },
     "execution_count": 8,
     "metadata": {},
     "output_type": "execute_result"
    }
   ],
   "source": [
    "dbutils.fs.ls(\"/mnt/rootlayer/SalesLT/\")"
   ]
  },
  {
   "cell_type": "code",
   "execution_count": 0,
   "metadata": {
    "application/vnd.databricks.v1+cell": {
     "cellMetadata": {
      "byteLimit": 2048000,
      "rowLimit": 10000
     },
     "inputWidgets": {},
     "nuid": "734cff77-78f2-493f-983a-1513658a370c",
     "showTitle": false,
     "title": ""
    }
   },
   "outputs": [
    {
     "output_type": "execute_result",
     "data": {
      "text/plain": [
       "True"
      ]
     },
     "execution_count": 10,
     "metadata": {},
     "output_type": "execute_result"
    }
   ],
   "source": [
    "dbutils.fs.mount(\n",
    "  source = \"wasbs://gold@mydatalaestoragegen2.blob.core.windows.net/\",\n",
    "  mount_point = \"/mnt/gold\",\n",
    "  extra_configs = {\"fs.azure.account.key.mydatalaestoragegen2.blob.core.windows.net\":Accountkey}\n",
    ")"
   ]
  }
 ],
 "metadata": {
  "application/vnd.databricks.v1+notebook": {
   "dashboards": [],
   "environmentMetadata": null,
   "language": "python",
   "notebookMetadata": {
    "pythonIndentUnit": 4
   },
   "notebookName": "mount storage ac",
   "widgets": {}
  }
 },
 "nbformat": 4,
 "nbformat_minor": 0
}
